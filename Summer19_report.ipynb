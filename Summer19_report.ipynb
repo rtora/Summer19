{
 "cells": [
  {
   "cell_type": "markdown",
   "metadata": {},
   "source": [
    "# A Comparison of Restricted Boltzmann Machines (RBM) and Sum Product Networks (SPN)"
   ]
  },
  {
   "cell_type": "markdown",
   "metadata": {},
   "source": [
    "## Introduction"
   ]
  },
  {
   "cell_type": "markdown",
   "metadata": {},
   "source": [
    "### Restricted Boltzmann machines (RBM)\n",
    "are energy based models that associate a scalar energy to each variable. The equation is given as:"
   ]
  },
  {
   "cell_type": "markdown",
   "metadata": {},
   "source": [
    "$Pr(x) = \\sum_{h}^{} \\frac{exp(-E(x,h))}{z}$"
   ]
  },
  {
   "cell_type": "markdown",
   "metadata": {},
   "source": [
    "The energy function is defined as:"
   ]
  },
  {
   "cell_type": "markdown",
   "metadata": {},
   "source": [
    "$E(x,h) = -a^Tx-b^Th-h^TWx$"
   ]
  },
  {
   "cell_type": "markdown",
   "metadata": {},
   "source": [
    "In the equations, x represents the observed layers and h represents the hidden layers. The chart below shows a plausible RBM."
   ]
  },
  {
   "cell_type": "code",
   "execution_count": 4,
   "metadata": {},
   "outputs": [
    {
     "data": {
      "image/png": "[encoded data removed]",
      "text/plain": [
       "<IPython.core.display.Image object>"
      ]
     },
     "execution_count": 4,
     "metadata": {},
     "output_type": "execute_result"
    }
   ],
   "source": [
    "from IPython.display import Image\n",
    "Image(filename='rbm_representation.png') "
   ]
  },
  {
   "cell_type": "markdown",
   "metadata": {},
   "source": [
    "The structure of RBMs makes the visible and hidden units independent from one another. As a result, we can have conditional probabilites. The probability of a specific hidden and visible unit is:"
   ]
  },
  {
   "cell_type": "markdown",
   "metadata": {},
   "source": [
    "$Pr(h_{i} = 1|x)=\\frac{exp(b_{i}+W_{i.}x)}{exp(b_{i}+W_{i.}x)+1} = σ(b_{i}+W_{i.}x)$"
   ]
  },
  {
   "cell_type": "markdown",
   "metadata": {},
   "source": [
    "$Pr(x_{i} = 1|h)=\\frac{exp(a_{i}+W_{.i}h)}{exp(a_{i}+W_{.i}h)+1} = σ(a_{i}+W_{.i}h)$"
   ]
  },
  {
   "cell_type": "markdown",
   "metadata": {},
   "source": [
    "σ is the sigmoid function:"
   ]
  },
  {
   "cell_type": "markdown",
   "metadata": {},
   "source": [
    "$σ(x)=\\frac{e^x}{e^x+1}$"
   ]
  },
  {
   "cell_type": "markdown",
   "metadata": {},
   "source": [
    "In order to make an energy based model we define free energy in the visible state as "
   ]
  },
  {
   "cell_type": "markdown",
   "metadata": {},
   "source": [
    "$F(x) = -log\\sum_{h}^{} {exp(-E(x,h))}$"
   ]
  },
  {
   "cell_type": "markdown",
   "metadata": {},
   "source": [
    "Which can be rewritten as"
   ]
  },
  {
   "cell_type": "markdown",
   "metadata": {},
   "source": [
    "$=-a^Tx-\\sum_{i}^{}log(1+exp(W_{i.}x+b_{i}))$"
   ]
  },
  {
   "cell_type": "markdown",
   "metadata": {},
   "source": [
    "Which can be simplified to"
   ]
  },
  {
   "cell_type": "markdown",
   "metadata": {},
   "source": [
    "$p(x;\\theta)=\\frac{1}{Z}exp(-F(x)) = \\frac{exp(-F(x))}{\\sum_{x}^{}exp(-F(\\tilde{x}))}$"
   ]
  },
  {
   "cell_type": "markdown",
   "metadata": {},
   "source": [
    "With a derivative of"
   ]
  },
  {
   "cell_type": "markdown",
   "metadata": {},
   "source": [
    "$\\frac{\\partial F(x)}{\\partial \\theta}-\\sum_{\\tilde{x}∈N}^{}p(\\tilde{x})\\frac{\\partial F(\\tilde{x})}{\\partial \\theta}$"
   ]
  },
  {
   "cell_type": "markdown",
   "metadata": {},
   "source": [
    "The x's are the current training data and $\\tilde{x}$ are all possible outputs of visible units generated by the model. $\\tilde{x}$ is nearly impossible to compute due to its exponential relationship to input size. The algorithim can work if N is a set of samples sampled from the model."
   ]
  },
  {
   "cell_type": "markdown",
   "metadata": {},
   "source": [
    "$\\frac{\\partial F(x)}{\\partial \\theta}-\\frac{1}{|N|}\\sum_{\\tilde{x}∈N}^{}\\frac{\\partial F(\\tilde{x})}{\\partial \\theta}$"
   ]
  },
  {
   "cell_type": "markdown",
   "metadata": {},
   "source": [
    "### Sum Product Networks (SPN)"
   ]
  },
  {
   "cell_type": "markdown",
   "metadata": {},
   "source": []
  },
  {
   "cell_type": "markdown",
   "metadata": {},
   "source": []
  },
  {
   "cell_type": "code",
   "execution_count": null,
   "metadata": {},
   "outputs": [],
   "source": []
  }
 ],
 "metadata": {
  "kernelspec": {
   "display_name": "Python 3",
   "language": "python",
   "name": "python3"
  },
  "language_info": {
   "codemirror_mode": {
    "name": "ipython",
    "version": 3
   },
   "file_extension": ".py",
   "mimetype": "text/x-python",
   "name": "python",
   "nbconvert_exporter": "python",
   "pygments_lexer": "ipython3",
   "version": "3.7.3"
  }
 },
 "nbformat": 4,
 "nbformat_minor": 2
}
